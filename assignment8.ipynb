{
 "cells": [
  {
   "cell_type": "code",
   "execution_count": 1,
   "metadata": {
    "colab": {},
    "colab_type": "code",
    "executionInfo": {
     "elapsed": 779,
     "status": "ok",
     "timestamp": 1596645583071,
     "user": {
      "displayName": "Enola Ma",
      "photoUrl": "https://lh3.googleusercontent.com/a-/AOh14GisAoHv9MWuCHFVysNNeRUDrOfkBQpMujRgntDs=s64",
      "userId": "06010974782397075293"
     },
     "user_tz": 240
    },
    "id": "MRAykRP3jkNW"
   },
   "outputs": [],
   "source": [
    "import numpy as np\n",
    "import pandas as pd\n",
    "import matplotlib.pyplot as plt\n",
    "from mlxtend.plotting import scatterplotmatrix,heatmap\n",
    "from sklearn.model_selection import train_test_split\n",
    "from sklearn.linear_model import LinearRegression,Lasso,Ridge,ElasticNet\n",
    "from sklearn.metrics import r2_score,mean_squared_error"
   ]
  },
  {
   "cell_type": "markdown",
   "metadata": {},
   "source": [
    "#### 1. Download the housing dataset referenced in the textbook on page 279, https://archive.ics.uci.edu/ml/machine-learning-databases/housing/"
   ]
  },
  {
   "cell_type": "code",
   "execution_count": 2,
   "metadata": {
    "colab": {
     "base_uri": "https://localhost:8080/",
     "height": 194
    },
    "colab_type": "code",
    "executionInfo": {
     "elapsed": 1246,
     "status": "ok",
     "timestamp": 1596645583564,
     "user": {
      "displayName": "Enola Ma",
      "photoUrl": "https://lh3.googleusercontent.com/a-/AOh14GisAoHv9MWuCHFVysNNeRUDrOfkBQpMujRgntDs=s64",
      "userId": "06010974782397075293"
     },
     "user_tz": 240
    },
    "id": "6g5Iy2XwDd_S",
    "outputId": "a9dd6988-2c3d-45bb-dfbe-fd49e068b80b"
   },
   "outputs": [
    {
     "data": {
      "text/html": [
       "<div>\n",
       "<style scoped>\n",
       "    .dataframe tbody tr th:only-of-type {\n",
       "        vertical-align: middle;\n",
       "    }\n",
       "\n",
       "    .dataframe tbody tr th {\n",
       "        vertical-align: top;\n",
       "    }\n",
       "\n",
       "    .dataframe thead th {\n",
       "        text-align: right;\n",
       "    }\n",
       "</style>\n",
       "<table border=\"1\" class=\"dataframe\">\n",
       "  <thead>\n",
       "    <tr style=\"text-align: right;\">\n",
       "      <th></th>\n",
       "      <th>CRIM</th>\n",
       "      <th>ZN</th>\n",
       "      <th>INDUS</th>\n",
       "      <th>CHAS</th>\n",
       "      <th>NOX</th>\n",
       "      <th>RM</th>\n",
       "      <th>AGE</th>\n",
       "      <th>DIS</th>\n",
       "      <th>RAD</th>\n",
       "      <th>TAX</th>\n",
       "      <th>PTRATIO</th>\n",
       "      <th>B</th>\n",
       "      <th>LSTAT</th>\n",
       "      <th>MEDV</th>\n",
       "    </tr>\n",
       "  </thead>\n",
       "  <tbody>\n",
       "    <tr>\n",
       "      <th>0</th>\n",
       "      <td>0.00632</td>\n",
       "      <td>18.0</td>\n",
       "      <td>2.31</td>\n",
       "      <td>0</td>\n",
       "      <td>0.538</td>\n",
       "      <td>6.575</td>\n",
       "      <td>65.2</td>\n",
       "      <td>4.0900</td>\n",
       "      <td>1</td>\n",
       "      <td>296.0</td>\n",
       "      <td>15.3</td>\n",
       "      <td>396.90</td>\n",
       "      <td>4.98</td>\n",
       "      <td>24.0</td>\n",
       "    </tr>\n",
       "    <tr>\n",
       "      <th>1</th>\n",
       "      <td>0.02731</td>\n",
       "      <td>0.0</td>\n",
       "      <td>7.07</td>\n",
       "      <td>0</td>\n",
       "      <td>0.469</td>\n",
       "      <td>6.421</td>\n",
       "      <td>78.9</td>\n",
       "      <td>4.9671</td>\n",
       "      <td>2</td>\n",
       "      <td>242.0</td>\n",
       "      <td>17.8</td>\n",
       "      <td>396.90</td>\n",
       "      <td>9.14</td>\n",
       "      <td>21.6</td>\n",
       "    </tr>\n",
       "    <tr>\n",
       "      <th>2</th>\n",
       "      <td>0.02729</td>\n",
       "      <td>0.0</td>\n",
       "      <td>7.07</td>\n",
       "      <td>0</td>\n",
       "      <td>0.469</td>\n",
       "      <td>7.185</td>\n",
       "      <td>61.1</td>\n",
       "      <td>4.9671</td>\n",
       "      <td>2</td>\n",
       "      <td>242.0</td>\n",
       "      <td>17.8</td>\n",
       "      <td>392.83</td>\n",
       "      <td>4.03</td>\n",
       "      <td>34.7</td>\n",
       "    </tr>\n",
       "    <tr>\n",
       "      <th>3</th>\n",
       "      <td>0.03237</td>\n",
       "      <td>0.0</td>\n",
       "      <td>2.18</td>\n",
       "      <td>0</td>\n",
       "      <td>0.458</td>\n",
       "      <td>6.998</td>\n",
       "      <td>45.8</td>\n",
       "      <td>6.0622</td>\n",
       "      <td>3</td>\n",
       "      <td>222.0</td>\n",
       "      <td>18.7</td>\n",
       "      <td>394.63</td>\n",
       "      <td>2.94</td>\n",
       "      <td>33.4</td>\n",
       "    </tr>\n",
       "    <tr>\n",
       "      <th>4</th>\n",
       "      <td>0.06905</td>\n",
       "      <td>0.0</td>\n",
       "      <td>2.18</td>\n",
       "      <td>0</td>\n",
       "      <td>0.458</td>\n",
       "      <td>7.147</td>\n",
       "      <td>54.2</td>\n",
       "      <td>6.0622</td>\n",
       "      <td>3</td>\n",
       "      <td>222.0</td>\n",
       "      <td>18.7</td>\n",
       "      <td>396.90</td>\n",
       "      <td>5.33</td>\n",
       "      <td>36.2</td>\n",
       "    </tr>\n",
       "  </tbody>\n",
       "</table>\n",
       "</div>"
      ],
      "text/plain": [
       "      CRIM    ZN  INDUS  CHAS    NOX     RM   AGE     DIS  RAD    TAX  \\\n",
       "0  0.00632  18.0   2.31     0  0.538  6.575  65.2  4.0900    1  296.0   \n",
       "1  0.02731   0.0   7.07     0  0.469  6.421  78.9  4.9671    2  242.0   \n",
       "2  0.02729   0.0   7.07     0  0.469  7.185  61.1  4.9671    2  242.0   \n",
       "3  0.03237   0.0   2.18     0  0.458  6.998  45.8  6.0622    3  222.0   \n",
       "4  0.06905   0.0   2.18     0  0.458  7.147  54.2  6.0622    3  222.0   \n",
       "\n",
       "   PTRATIO       B  LSTAT  MEDV  \n",
       "0     15.3  396.90   4.98  24.0  \n",
       "1     17.8  396.90   9.14  21.6  \n",
       "2     17.8  392.83   4.03  34.7  \n",
       "3     18.7  394.63   2.94  33.4  \n",
       "4     18.7  396.90   5.33  36.2  "
      ]
     },
     "execution_count": 2,
     "metadata": {},
     "output_type": "execute_result"
    }
   ],
   "source": [
    "df = pd.read_csv('https://raw.githubusercontent.com/rasbt/python-machine-learning-book-3rd-edition/'\n",
    "                 'master/ch10/housing.data.txt',\n",
    "                 header=None,sep='\\s+')\n",
    "\n",
    "df.columns = ['CRIM', 'ZN', 'INDUS', 'CHAS', 'NOX', 'RM', 'AGE', 'DIS', 'RAD', \n",
    "              'TAX', 'PTRATIO', 'B', 'LSTAT', 'MEDV']\n",
    "df.head()"
   ]
  },
  {
   "cell_type": "markdown",
   "metadata": {
    "colab_type": "text",
    "id": "cbXpLGSZkKkB"
   },
   "source": [
    "#### 2. Pick a number of features that you think may be correlated and plot pairs of them to confirm that they are correlated.\n",
    "Plotting features that are possibly correlated\n",
    "Features chosen are CRIM, ZN, RM, AGE, TAX, PTRATIO AND LSTAT"
   ]
  },
  {
   "cell_type": "code",
   "execution_count": null,
   "metadata": {
    "colab": {
     "base_uri": "https://localhost:8080/",
     "height": 585
    },
    "colab_type": "code",
    "executionInfo": {
     "elapsed": 8981,
     "status": "ok",
     "timestamp": 1596645591348,
     "user": {
      "displayName": "Enola Ma",
      "photoUrl": "https://lh3.googleusercontent.com/a-/AOh14GisAoHv9MWuCHFVysNNeRUDrOfkBQpMujRgntDs=s64",
      "userId": "06010974782397075293"
     },
     "user_tz": 240
    },
    "id": "j8byqpdzkZRa",
    "outputId": "51037ca0-b043-4e8b-c46c-0517f5b0ae3f"
   },
   "outputs": [],
   "source": [
    "cols = ['CRIM', 'ZN', 'RM', 'AGE', 'TAX', 'PTRATIO', 'LSTAT']\n",
    "scatterplotmatrix(df[cols].values, figsize=(10, 8), names=cols, alpha=0.5)\n",
    "plt.tight_layout()\n",
    "plt.show()"
   ]
  },
  {
   "cell_type": "code",
   "execution_count": null,
   "metadata": {
    "colab": {
     "base_uri": "https://localhost:8080/",
     "height": 296
    },
    "colab_type": "code",
    "executionInfo": {
     "elapsed": 8967,
     "status": "ok",
     "timestamp": 1596645591349,
     "user": {
      "displayName": "Enola Ma",
      "photoUrl": "https://lh3.googleusercontent.com/a-/AOh14GisAoHv9MWuCHFVysNNeRUDrOfkBQpMujRgntDs=s64",
      "userId": "06010974782397075293"
     },
     "user_tz": 240
    },
    "id": "TOTsAS9glTBz",
    "outputId": "e28bbab5-cfa3-45b8-a502-ae0906443383"
   },
   "outputs": [],
   "source": [
    "cm = np.corrcoef(df[cols].values.T)\n",
    "hm = heatmap(cm, row_names=cols, column_names=cols)\n",
    "plt.show()"
   ]
  },
  {
   "cell_type": "markdown",
   "metadata": {
    "colab_type": "text",
    "id": "Virtu1IVsBi7"
   },
   "source": [
    "As seen from the heatmap above, LSTAT and AGE showed the greatest correlation, while LSTAT and RM had the lowest correlation."
   ]
  },
  {
   "cell_type": "markdown",
   "metadata": {
    "colab_type": "text",
    "id": "DBMNwPICsQdH"
   },
   "source": [
    "#### 3. Pick one feature that you think can be predicted by the other features in the dataset. The feature to be predicted needs to have numerical values.\n",
    "Based on the heatmap obtained in the previous section, the feature to be predicted was chosen as LSTAT. \n",
    "Switching the positions of columns \"LSTAT\" and \"MEDV\" makes later steps easier"
   ]
  },
  {
   "cell_type": "code",
   "execution_count": null,
   "metadata": {
    "colab": {},
    "colab_type": "code",
    "executionInfo": {
     "elapsed": 8957,
     "status": "ok",
     "timestamp": 1596645591351,
     "user": {
      "displayName": "Enola Ma",
      "photoUrl": "https://lh3.googleusercontent.com/a-/AOh14GisAoHv9MWuCHFVysNNeRUDrOfkBQpMujRgntDs=s64",
      "userId": "06010974782397075293"
     },
     "user_tz": 240
    },
    "id": "kv6NC2nTCzKQ"
   },
   "outputs": [],
   "source": [
    "columns_titles = [\"CRIM\", \"ZN\", \"INDUS\", \"CHAS\", \"NOX\", \"RM\", \"AGE\", \"DIS\", \"RAD\", \n",
    "              \"TAX\", \"PTRATIO\", \"B\", \"MEDV\", \"LSTAT\"]\n",
    "df=df.reindex(columns=columns_titles)"
   ]
  },
  {
   "cell_type": "code",
   "execution_count": null,
   "metadata": {
    "colab": {
     "base_uri": "https://localhost:8080/",
     "height": 399
    },
    "colab_type": "code",
    "executionInfo": {
     "elapsed": 8947,
     "status": "ok",
     "timestamp": 1596645591352,
     "user": {
      "displayName": "Enola Ma",
      "photoUrl": "https://lh3.googleusercontent.com/a-/AOh14GisAoHv9MWuCHFVysNNeRUDrOfkBQpMujRgntDs=s64",
      "userId": "06010974782397075293"
     },
     "user_tz": 240
    },
    "id": "OTy2d2FuC8Y1",
    "outputId": "9152786e-c859-44f9-89e5-cb27c04bd5e1"
   },
   "outputs": [],
   "source": [
    "df"
   ]
  },
  {
   "cell_type": "markdown",
   "metadata": {
    "colab_type": "text",
    "id": "mAqvtnzkIZ61"
   },
   "source": [
    "#### 4. Separate the data into training, validation, and test sets.\n",
    "Spliting the dataset into training and testing sets; no validation set was created because it wasn't involved in any of the later steps."
   ]
  },
  {
   "cell_type": "code",
   "execution_count": null,
   "metadata": {
    "colab": {},
    "colab_type": "code",
    "executionInfo": {
     "elapsed": 8936,
     "status": "ok",
     "timestamp": 1596645591353,
     "user": {
      "displayName": "Enola Ma",
      "photoUrl": "https://lh3.googleusercontent.com/a-/AOh14GisAoHv9MWuCHFVysNNeRUDrOfkBQpMujRgntDs=s64",
      "userId": "06010974782397075293"
     },
     "user_tz": 240
    },
    "id": "k2Xqz9--__tq"
   },
   "outputs": [],
   "source": [
    "X = df.iloc[:, :-1].values\n",
    "y = df['LSTAT'].values\n",
    "\n",
    "X_train, X_test, y_train, y_test = train_test_split(X, y, test_size=0.3, random_state=0)"
   ]
  },
  {
   "cell_type": "markdown",
   "metadata": {
    "colab_type": "text",
    "id": "JBIky5d5FWbl"
   },
   "source": [
    "#### 5. Apply various Scikit Learn regression methods to the data.\n",
    "Using linear regression mode:"
   ]
  },
  {
   "cell_type": "code",
   "execution_count": null,
   "metadata": {
    "colab": {
     "base_uri": "https://localhost:8080/",
     "height": 70
    },
    "colab_type": "code",
    "executionInfo": {
     "elapsed": 8925,
     "status": "ok",
     "timestamp": 1596645591353,
     "user": {
      "displayName": "Enola Ma",
      "photoUrl": "https://lh3.googleusercontent.com/a-/AOh14GisAoHv9MWuCHFVysNNeRUDrOfkBQpMujRgntDs=s64",
      "userId": "06010974782397075293"
     },
     "user_tz": 240
    },
    "id": "efyJ-_JwAZVE",
    "outputId": "eb06adb3-fed9-498c-d034-412e8ea67489"
   },
   "outputs": [],
   "source": [
    "slr = LinearRegression()\n",
    "slr.fit(X_train, y_train)\n",
    "y_train_pred = slr.predict(X_train)\n",
    "y_test_pred = slr.predict(X_test)\n",
    "print(slr.coef_)"
   ]
  },
  {
   "cell_type": "code",
   "execution_count": null,
   "metadata": {
    "colab": {
     "base_uri": "https://localhost:8080/",
     "height": 52
    },
    "colab_type": "code",
    "executionInfo": {
     "elapsed": 8913,
     "status": "ok",
     "timestamp": 1596645591354,
     "user": {
      "displayName": "Enola Ma",
      "photoUrl": "https://lh3.googleusercontent.com/a-/AOh14GisAoHv9MWuCHFVysNNeRUDrOfkBQpMujRgntDs=s64",
      "userId": "06010974782397075293"
     },
     "user_tz": 240
    },
    "id": "Y5mbMuizFnjt",
    "outputId": "eafa6c4a-b059-4026-f307-eccb46a8b09a"
   },
   "outputs": [],
   "source": [
    "print('MSE train: %.3f, test: %.3f' % (mean_squared_error(y_train, y_train_pred),\n",
    "        mean_squared_error(y_test, y_test_pred)))\n",
    "print('R^2 train: %.3f, test: %.3f' % (r2_score(y_train, y_train_pred),\n",
    "        r2_score(y_test, y_test_pred)))"
   ]
  },
  {
   "cell_type": "markdown",
   "metadata": {
    "colab_type": "text",
    "id": "4JfaUYX7FwYK"
   },
   "source": [
    "#### 5. Apply various Scikit Learn regression methods to the data.\n",
    "Using lasso mode: "
   ]
  },
  {
   "cell_type": "code",
   "execution_count": null,
   "metadata": {
    "colab": {
     "base_uri": "https://localhost:8080/",
     "height": 70
    },
    "colab_type": "code",
    "executionInfo": {
     "elapsed": 8899,
     "status": "ok",
     "timestamp": 1596645591355,
     "user": {
      "displayName": "Enola Ma",
      "photoUrl": "https://lh3.googleusercontent.com/a-/AOh14GisAoHv9MWuCHFVysNNeRUDrOfkBQpMujRgntDs=s64",
      "userId": "06010974782397075293"
     },
     "user_tz": 240
    },
    "id": "rlYvK77rF93A",
    "outputId": "0b202d82-3661-4f61-9efe-c830afd0c948"
   },
   "outputs": [],
   "source": [
    "lasso = Lasso(alpha=0.1)\n",
    "lasso.fit(X_train, y_train)\n",
    "y_train_pred = lasso.predict(X_train)\n",
    "y_test_pred = lasso.predict(X_test)\n",
    "print(lasso.coef_)"
   ]
  },
  {
   "cell_type": "code",
   "execution_count": null,
   "metadata": {
    "colab": {
     "base_uri": "https://localhost:8080/",
     "height": 52
    },
    "colab_type": "code",
    "executionInfo": {
     "elapsed": 8885,
     "status": "ok",
     "timestamp": 1596645591356,
     "user": {
      "displayName": "Enola Ma",
      "photoUrl": "https://lh3.googleusercontent.com/a-/AOh14GisAoHv9MWuCHFVysNNeRUDrOfkBQpMujRgntDs=s64",
      "userId": "06010974782397075293"
     },
     "user_tz": 240
    },
    "id": "WIKOqbUvGC7t",
    "outputId": "32c7edb4-d123-495a-acdf-18d8e7c706dd"
   },
   "outputs": [],
   "source": [
    "print('MSE train: %.3f, test: %.3f' % (mean_squared_error(y_train, y_train_pred),\n",
    "        mean_squared_error(y_test, y_test_pred)))\n",
    "print('R^2 train: %.3f, test: %.3f' % (r2_score(y_train, y_train_pred),\n",
    "        r2_score(y_test, y_test_pred)))"
   ]
  },
  {
   "cell_type": "markdown",
   "metadata": {
    "colab_type": "text",
    "id": "tPYuzaogGIMo"
   },
   "source": [
    "#### 5. Apply various Scikit Learn regression methods to the data.\n",
    "Using ridge mode:"
   ]
  },
  {
   "cell_type": "code",
   "execution_count": null,
   "metadata": {
    "colab": {
     "base_uri": "https://localhost:8080/",
     "height": 70
    },
    "colab_type": "code",
    "executionInfo": {
     "elapsed": 8870,
     "status": "ok",
     "timestamp": 1596645591357,
     "user": {
      "displayName": "Enola Ma",
      "photoUrl": "https://lh3.googleusercontent.com/a-/AOh14GisAoHv9MWuCHFVysNNeRUDrOfkBQpMujRgntDs=s64",
      "userId": "06010974782397075293"
     },
     "user_tz": 240
    },
    "id": "QPDn70scG_xM",
    "outputId": "9bd62567-0ee4-46ef-be23-b512a0c362d4"
   },
   "outputs": [],
   "source": [
    "ridge = Ridge(alpha=1.0)\n",
    "ridge.fit(X_train, y_train)\n",
    "y_train_pred = ridge.predict(X_train)\n",
    "y_test_pred = ridge.predict(X_test)\n",
    "print(ridge.coef_)"
   ]
  },
  {
   "cell_type": "code",
   "execution_count": null,
   "metadata": {
    "colab": {
     "base_uri": "https://localhost:8080/",
     "height": 52
    },
    "colab_type": "code",
    "executionInfo": {
     "elapsed": 8858,
     "status": "ok",
     "timestamp": 1596645591358,
     "user": {
      "displayName": "Enola Ma",
      "photoUrl": "https://lh3.googleusercontent.com/a-/AOh14GisAoHv9MWuCHFVysNNeRUDrOfkBQpMujRgntDs=s64",
      "userId": "06010974782397075293"
     },
     "user_tz": 240
    },
    "id": "b7Uz3cUTHEpn",
    "outputId": "c1073376-4934-4d8d-dbc6-8119a2f5953d"
   },
   "outputs": [],
   "source": [
    "print('MSE train: %.3f, test: %.3f' % (mean_squared_error(y_train, y_train_pred),\n",
    "        mean_squared_error(y_test, y_test_pred)))\n",
    "print('R^2 train: %.3f, test: %.3f' % (r2_score(y_train, y_train_pred),\n",
    "        r2_score(y_test, y_test_pred)))"
   ]
  },
  {
   "cell_type": "markdown",
   "metadata": {
    "colab_type": "text",
    "id": "nxL5PS1mHRBv"
   },
   "source": [
    "#### 5. Apply various Scikit Learn regression methods to the data.\n",
    "Using elastic net mode:"
   ]
  },
  {
   "cell_type": "code",
   "execution_count": null,
   "metadata": {
    "colab": {
     "base_uri": "https://localhost:8080/",
     "height": 70
    },
    "colab_type": "code",
    "executionInfo": {
     "elapsed": 8847,
     "status": "ok",
     "timestamp": 1596645591358,
     "user": {
      "displayName": "Enola Ma",
      "photoUrl": "https://lh3.googleusercontent.com/a-/AOh14GisAoHv9MWuCHFVysNNeRUDrOfkBQpMujRgntDs=s64",
      "userId": "06010974782397075293"
     },
     "user_tz": 240
    },
    "id": "nQPtDppFHU5d",
    "outputId": "63c95039-364e-433f-e827-60159e1c6ff2"
   },
   "outputs": [],
   "source": [
    "\n",
    "elanet = ElasticNet(alpha=1.0, l1_ratio=0.5)\n",
    "elanet.fit(X_train, y_train)\n",
    "y_train_pred = elanet.predict(X_train)\n",
    "y_test_pred = elanet.predict(X_test)\n",
    "print(elanet.coef_)"
   ]
  },
  {
   "cell_type": "code",
   "execution_count": null,
   "metadata": {
    "colab": {
     "base_uri": "https://localhost:8080/",
     "height": 52
    },
    "colab_type": "code",
    "executionInfo": {
     "elapsed": 8838,
     "status": "ok",
     "timestamp": 1596645591359,
     "user": {
      "displayName": "Enola Ma",
      "photoUrl": "https://lh3.googleusercontent.com/a-/AOh14GisAoHv9MWuCHFVysNNeRUDrOfkBQpMujRgntDs=s64",
      "userId": "06010974782397075293"
     },
     "user_tz": 240
    },
    "id": "2vU0mbKDHYwx",
    "outputId": "b4c3c687-944d-4a72-8daf-42040731449c"
   },
   "outputs": [],
   "source": [
    "print('MSE train: %.3f, test: %.3f' % (mean_squared_error(y_train, y_train_pred),\n",
    "        mean_squared_error(y_test, y_test_pred)))\n",
    "print('R^2 train: %.3f, test: %.3f' % (r2_score(y_train, y_train_pred),\n",
    "        r2_score(y_test, y_test_pred)))"
   ]
  },
  {
   "cell_type": "markdown",
   "metadata": {
    "colab_type": "text",
    "id": "dd3BPNmYv7NK"
   },
   "source": [
    "#### 7. Repeat steps 3. to 6. for a second feature.\n",
    "Picking a second feature\n",
    "\n",
    "The second feature chosen to be predicted was CRIM.\n",
    "\n",
    "Switching the positions of \"CRIM\" and \"MEDV\" columns make later steps easier. "
   ]
  },
  {
   "cell_type": "code",
   "execution_count": null,
   "metadata": {
    "colab": {},
    "colab_type": "code",
    "executionInfo": {
     "elapsed": 9146,
     "status": "ok",
     "timestamp": 1596645591676,
     "user": {
      "displayName": "Enola Ma",
      "photoUrl": "https://lh3.googleusercontent.com/a-/AOh14GisAoHv9MWuCHFVysNNeRUDrOfkBQpMujRgntDs=s64",
      "userId": "06010974782397075293"
     },
     "user_tz": 240
    },
    "id": "sPYCUEH5H8n-"
   },
   "outputs": [],
   "source": [
    "columns_titles = [\"ZN\", \"INDUS\", \"CHAS\", \"NOX\", \"RM\", \"AGE\", \"DIS\", \"RAD\", \n",
    "              \"TAX\", \"PTRATIO\", \"B\", \"LSTAT\", \"MEDV\", \"CRIM\"]\n",
    "df=df.reindex(columns=columns_titles)"
   ]
  },
  {
   "cell_type": "code",
   "execution_count": null,
   "metadata": {
    "colab": {
     "base_uri": "https://localhost:8080/",
     "height": 399
    },
    "colab_type": "code",
    "executionInfo": {
     "elapsed": 9139,
     "status": "ok",
     "timestamp": 1596645591677,
     "user": {
      "displayName": "Enola Ma",
      "photoUrl": "https://lh3.googleusercontent.com/a-/AOh14GisAoHv9MWuCHFVysNNeRUDrOfkBQpMujRgntDs=s64",
      "userId": "06010974782397075293"
     },
     "user_tz": 240
    },
    "id": "sGOmahPjIIvK",
    "outputId": "6f086841-b1f1-46ec-80cd-1206081421df"
   },
   "outputs": [],
   "source": [
    "df"
   ]
  },
  {
   "cell_type": "markdown",
   "metadata": {
    "colab_type": "text",
    "id": "3_B-FMp9LZuR"
   },
   "source": [
    "Spliting the dataset into training and testing sets; no validation set was created because it wasn't involved in any of the later steps."
   ]
  },
  {
   "cell_type": "code",
   "execution_count": null,
   "metadata": {
    "colab": {},
    "colab_type": "code",
    "executionInfo": {
     "elapsed": 9128,
     "status": "ok",
     "timestamp": 1596645591677,
     "user": {
      "displayName": "Enola Ma",
      "photoUrl": "https://lh3.googleusercontent.com/a-/AOh14GisAoHv9MWuCHFVysNNeRUDrOfkBQpMujRgntDs=s64",
      "userId": "06010974782397075293"
     },
     "user_tz": 240
    },
    "id": "VcKnkxZ1IJpn"
   },
   "outputs": [],
   "source": [
    "X = df.iloc[:, :-1].values\n",
    "y = df['CRIM'].values\n",
    "\n",
    "X_train, X_test, y_train, y_test = train_test_split(X, y, test_size=0.3, random_state=0)"
   ]
  },
  {
   "cell_type": "markdown",
   "metadata": {
    "colab_type": "text",
    "id": "VPbtItfhLgvx"
   },
   "source": [
    "Using linear regression mode:"
   ]
  },
  {
   "cell_type": "code",
   "execution_count": null,
   "metadata": {
    "colab": {
     "base_uri": "https://localhost:8080/",
     "height": 88
    },
    "colab_type": "code",
    "executionInfo": {
     "elapsed": 9122,
     "status": "ok",
     "timestamp": 1596645591678,
     "user": {
      "displayName": "Enola Ma",
      "photoUrl": "https://lh3.googleusercontent.com/a-/AOh14GisAoHv9MWuCHFVysNNeRUDrOfkBQpMujRgntDs=s64",
      "userId": "06010974782397075293"
     },
     "user_tz": 240
    },
    "id": "p7mNm40YKaq5",
    "outputId": "8d2bbd75-3538-4ca8-d202-de9fad13c1ae"
   },
   "outputs": [],
   "source": [
    "slr = LinearRegression()\n",
    "slr.fit(X_train, y_train)\n",
    "y_train_pred = slr.predict(X_train)\n",
    "y_test_pred = slr.predict(X_test)\n",
    "print(slr.coef_)"
   ]
  },
  {
   "cell_type": "code",
   "execution_count": null,
   "metadata": {
    "colab": {
     "base_uri": "https://localhost:8080/",
     "height": 52
    },
    "colab_type": "code",
    "executionInfo": {
     "elapsed": 9114,
     "status": "ok",
     "timestamp": 1596645591679,
     "user": {
      "displayName": "Enola Ma",
      "photoUrl": "https://lh3.googleusercontent.com/a-/AOh14GisAoHv9MWuCHFVysNNeRUDrOfkBQpMujRgntDs=s64",
      "userId": "06010974782397075293"
     },
     "user_tz": 240
    },
    "id": "u61_PMjOK277",
    "outputId": "77982c5b-e5ec-4f70-9608-b5b5828b53d5"
   },
   "outputs": [],
   "source": [
    "print('MSE train: %.3f, test: %.3f' % (mean_squared_error(y_train, y_train_pred),\n",
    "        mean_squared_error(y_test, y_test_pred)))\n",
    "print('R^2 train: %.3f, test: %.3f' % (r2_score(y_train, y_train_pred),\n",
    "        r2_score(y_test, y_test_pred)))"
   ]
  },
  {
   "cell_type": "markdown",
   "metadata": {
    "colab_type": "text",
    "id": "tF-z1wEILi9t"
   },
   "source": [
    "Using lasso mode:"
   ]
  },
  {
   "cell_type": "code",
   "execution_count": null,
   "metadata": {
    "colab": {
     "base_uri": "https://localhost:8080/",
     "height": 88
    },
    "colab_type": "code",
    "executionInfo": {
     "elapsed": 9102,
     "status": "ok",
     "timestamp": 1596645591679,
     "user": {
      "displayName": "Enola Ma",
      "photoUrl": "https://lh3.googleusercontent.com/a-/AOh14GisAoHv9MWuCHFVysNNeRUDrOfkBQpMujRgntDs=s64",
      "userId": "06010974782397075293"
     },
     "user_tz": 240
    },
    "id": "o5eTahz-LXaR",
    "outputId": "f0fe1fc1-ad5b-4a1b-d336-5982da50ba97"
   },
   "outputs": [],
   "source": [
    "lasso = Lasso(alpha=0.1)\n",
    "lasso.fit(X_train, y_train)\n",
    "y_train_pred = lasso.predict(X_train)\n",
    "y_test_pred = lasso.predict(X_test)\n",
    "print(lasso.coef_)"
   ]
  },
  {
   "cell_type": "code",
   "execution_count": null,
   "metadata": {
    "colab": {
     "base_uri": "https://localhost:8080/",
     "height": 52
    },
    "colab_type": "code",
    "executionInfo": {
     "elapsed": 9091,
     "status": "ok",
     "timestamp": 1596645591680,
     "user": {
      "displayName": "Enola Ma",
      "photoUrl": "https://lh3.googleusercontent.com/a-/AOh14GisAoHv9MWuCHFVysNNeRUDrOfkBQpMujRgntDs=s64",
      "userId": "06010974782397075293"
     },
     "user_tz": 240
    },
    "id": "VOE_Gp5lLpaP",
    "outputId": "e2a87e84-53f6-4f74-c98f-6eca95ff1c4c"
   },
   "outputs": [],
   "source": [
    "print('MSE train: %.3f, test: %.3f' % (mean_squared_error(y_train, y_train_pred),\n",
    "        mean_squared_error(y_test, y_test_pred)))\n",
    "print('R^2 train: %.3f, test: %.3f' % (r2_score(y_train, y_train_pred),\n",
    "        r2_score(y_test, y_test_pred)))"
   ]
  },
  {
   "cell_type": "markdown",
   "metadata": {
    "colab_type": "text",
    "id": "KkLbrO0GMOxE"
   },
   "source": [
    "Using ridge mode:"
   ]
  },
  {
   "cell_type": "code",
   "execution_count": null,
   "metadata": {
    "colab": {
     "base_uri": "https://localhost:8080/",
     "height": 88
    },
    "colab_type": "code",
    "executionInfo": {
     "elapsed": 9080,
     "status": "ok",
     "timestamp": 1596645591681,
     "user": {
      "displayName": "Enola Ma",
      "photoUrl": "https://lh3.googleusercontent.com/a-/AOh14GisAoHv9MWuCHFVysNNeRUDrOfkBQpMujRgntDs=s64",
      "userId": "06010974782397075293"
     },
     "user_tz": 240
    },
    "id": "2QfD8PyIMeYz",
    "outputId": "8bcd80e3-a192-4884-aa0e-f01db598db87"
   },
   "outputs": [],
   "source": [
    "ridge = Ridge(alpha=1.0)\n",
    "ridge.fit(X_train, y_train)\n",
    "y_train_pred = ridge.predict(X_train)\n",
    "y_test_pred = ridge.predict(X_test)\n",
    "print(ridge.coef_)"
   ]
  },
  {
   "cell_type": "code",
   "execution_count": null,
   "metadata": {
    "colab": {
     "base_uri": "https://localhost:8080/",
     "height": 52
    },
    "colab_type": "code",
    "executionInfo": {
     "elapsed": 9068,
     "status": "ok",
     "timestamp": 1596645591682,
     "user": {
      "displayName": "Enola Ma",
      "photoUrl": "https://lh3.googleusercontent.com/a-/AOh14GisAoHv9MWuCHFVysNNeRUDrOfkBQpMujRgntDs=s64",
      "userId": "06010974782397075293"
     },
     "user_tz": 240
    },
    "id": "IHsj_lANMe_X",
    "outputId": "90eadf18-e473-4a9b-cec3-d7ee48238014"
   },
   "outputs": [],
   "source": [
    "print('MSE train: %.3f, test: %.3f' % (mean_squared_error(y_train, y_train_pred),\n",
    "        mean_squared_error(y_test, y_test_pred)))\n",
    "print('R^2 train: %.3f, test: %.3f' % (r2_score(y_train, y_train_pred),\n",
    "        r2_score(y_test, y_test_pred)))"
   ]
  },
  {
   "cell_type": "markdown",
   "metadata": {
    "colab_type": "text",
    "id": "3aN9A7gsMUUQ"
   },
   "source": [
    "Using elastic net mode:"
   ]
  },
  {
   "cell_type": "code",
   "execution_count": null,
   "metadata": {
    "colab": {
     "base_uri": "https://localhost:8080/",
     "height": 70
    },
    "colab_type": "code",
    "executionInfo": {
     "elapsed": 9057,
     "status": "ok",
     "timestamp": 1596645591682,
     "user": {
      "displayName": "Enola Ma",
      "photoUrl": "https://lh3.googleusercontent.com/a-/AOh14GisAoHv9MWuCHFVysNNeRUDrOfkBQpMujRgntDs=s64",
      "userId": "06010974782397075293"
     },
     "user_tz": 240
    },
    "id": "VpHuYZ9dMmy_",
    "outputId": "9524f3ca-6112-4067-dc55-2d28b5fdcb38"
   },
   "outputs": [],
   "source": [
    "elanet = ElasticNet(alpha=1.0, l1_ratio=0.5)\n",
    "elanet.fit(X_train, y_train)\n",
    "y_train_pred = elanet.predict(X_train)\n",
    "y_test_pred = elanet.predict(X_test)\n",
    "print(elanet.coef_)"
   ]
  },
  {
   "cell_type": "code",
   "execution_count": null,
   "metadata": {
    "colab": {
     "base_uri": "https://localhost:8080/",
     "height": 52
    },
    "colab_type": "code",
    "executionInfo": {
     "elapsed": 9044,
     "status": "ok",
     "timestamp": 1596645591683,
     "user": {
      "displayName": "Enola Ma",
      "photoUrl": "https://lh3.googleusercontent.com/a-/AOh14GisAoHv9MWuCHFVysNNeRUDrOfkBQpMujRgntDs=s64",
      "userId": "06010974782397075293"
     },
     "user_tz": 240
    },
    "id": "p28XPF_fMuG_",
    "outputId": "474c48f6-299b-435c-c061-611889a3b1c5"
   },
   "outputs": [],
   "source": [
    "print('MSE train: %.3f, test: %.3f' % (mean_squared_error(y_train, y_train_pred),\n",
    "        mean_squared_error(y_test, y_test_pred)))\n",
    "print('R^2 train: %.3f, test: %.3f' % (r2_score(y_train, y_train_pred),\n",
    "        r2_score(y_test, y_test_pred)))"
   ]
  },
  {
   "cell_type": "markdown",
   "metadata": {
    "colab_type": "text",
    "id": "aBjjqGgTNJoZ"
   },
   "source": [
    "#### 6. Quantify how good a job each method did in predicting the value of the dependent variable (using your test data set). Discuss why you believe each method performed as it did."
   ]
  },
  {
   "cell_type": "markdown",
   "metadata": {
    "colab_type": "text",
    "id": "K1QUt_cTWLo2"
   },
   "source": [
    "#### Discussion\n",
    "The following table summarizes the MSE values and R_squared values for the first feature, LSTAT, when randomstate for splitting data is 0 and 42, respectively. \n",
    "\n",
    "![image.png](data:image/png;base64,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)\n",
    "\n",
    "As seen from the table above, when random state is set to be 1, the MSE values for the testing set were consistently higher than those for the training set, which is an indicator that the training data was overfitted for all four regression modes. In contrast, when randomstate was increased to 42, the MSE values for the test data became smaller than those for the training set for all four methods used. This meant that the training data was not overfitted once the randomstate value was increased. R^2 values were calculated to quantify the accuracy of each prediction. As seen from the table above, linear, lasso and ridge regression modes yielded near identical R^2 values, while the R^2 value for elastic net was slightly lower. As discussed in the learning module, linear regression is the simplest mode, while lasso regression involves L1 regularization and thus leads to a sparse solution, ridge regression involves L2 regularization which significantly improves the stability of the model, and elastic net involves both L1 and L2 regularization. All the latter three options are more ideal for when the training data is multicollineary. However, since there wasn't much of a discrepency between the R^2 values obtained using these four methods, it should be appropriate to conclude that this training dataset is not multicollineary and can be predicted by all four modes.\n",
    "\n",
    "This second table summarizes the same criteria for the second feature, CRIM. \n",
    "\n",
    "![image.png](data:image/png;base64,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)\n",
    "\n",
    "As seen from this table above, the value of randomstate during the data splitting step did not help with overfitting or accuracy of each prediction. Since none of the four modes used here yielded a high R^2 value, it should be appropriate to conclude that this training set was not linearly related and different regression methods should be used instead. "
   ]
  },
  {
   "cell_type": "code",
   "execution_count": null,
   "metadata": {},
   "outputs": [],
   "source": []
  }
 ],
 "metadata": {
  "colab": {
   "authorship_tag": "ABX9TyMRuljW4IC6tFVlphFPXsn5",
   "name": "mm11392_assignment 8.ipynb",
   "provenance": []
  },
  "kernelspec": {
   "display_name": "Python 3",
   "language": "python",
   "name": "python3"
  },
  "language_info": {
   "codemirror_mode": {
    "name": "ipython",
    "version": 3
   },
   "file_extension": ".py",
   "mimetype": "text/x-python",
   "name": "python",
   "nbconvert_exporter": "python",
   "pygments_lexer": "ipython3",
   "version": "3.8.2"
  }
 },
 "nbformat": 4,
 "nbformat_minor": 1
}
